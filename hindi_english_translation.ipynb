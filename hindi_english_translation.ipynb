{
  "cells": [
    {
      "cell_type": "markdown",
      "metadata": {
        "id": "view-in-github",
        "colab_type": "text"
      },
      "source": [
        "<a href=\"https://colab.research.google.com/github/pearl629/word2vec/blob/main/hindi_english_translation.ipynb\" target=\"_parent\"><img src=\"https://colab.research.google.com/assets/colab-badge.svg\" alt=\"Open In Colab\"/></a>"
      ]
    },
    {
      "cell_type": "markdown",
      "metadata": {
        "id": "e4FcIqIR2I6_"
      },
      "source": [
        "# **Building** **a** **Neural** **Machine** **Translation** **Model** **from** **Scratch**\n",
        "# : *Sequence*-*to*-*Sequence* *Model* *Training* *with* *Luong* *Attention* *Mechanism* :\n",
        "\n",
        " This script trains a sequence-to-sequence (Seq2Seq) model for translating Hindi to English. The model consists of an encoder and an attention-based decoder using the Luong attention mechanism. The script includes data loading, model definition, and training functions with performance tracking and plotting."
      ]
    },
    {
      "cell_type": "code",
      "execution_count": 2,
      "metadata": {
        "id": "4s01I_Vb2gqM"
      },
      "outputs": [],
      "source": [
        "# Importing necessary libraries\n",
        "import pandas as pd\n",
        "import unicodedata\n",
        "import re\n",
        "from sklearn.model_selection import train_test_split\n",
        "import torch\n",
        "import torch.nn as nn\n",
        "from torch import optim\n",
        "import torch.nn.functional as F\n",
        "from torch.utils.data import TensorDataset,DataLoader, RandomSampler\n",
        "import time\n",
        "import math\n",
        "import matplotlib.pyplot as plt\n",
        "import numpy as np\n",
        "import sacrebleu\n",
        "import nltk\n",
        "from nltk.translate.meteor_score import meteor_score\n",
        "import random"
      ]
    },
    {
      "cell_type": "code",
      "execution_count": 3,
      "metadata": {
        "id": "YJ13tD4OCHdl"
      },
      "outputs": [],
      "source": [
        "MAX_LENGTH = 10  # Maximum length of sequences\n",
        "hidden_size = 256  # Size of hidden state in RNN\n",
        "batch_size = 816  # Batch size for training"
      ]
    },
    {
      "cell_type": "code",
      "execution_count": 4,
      "metadata": {
        "id": "zWb4uw_yA5RR"
      },
      "outputs": [],
      "source": [
        "# Sets the device to 'cuda' if a GPU is available, otherwise uses 'cpu'\n",
        "device = torch.device(\"cuda\" if torch.cuda.is_available() else \"cpu\")"
      ]
    },
    {
      "cell_type": "markdown",
      "metadata": {
        "id": "jG0OTars_vjG"
      },
      "source": [
        "# **Preparing** **Data**:"
      ]
    },
    {
      "cell_type": "code",
      "execution_count": 5,
      "metadata": {
        "colab": {
          "base_uri": "https://localhost:8080/"
        },
        "id": "CcJKSCRBzgyn",
        "outputId": "fefd02be-2277-4492-be2c-853ca89eb038"
      },
      "outputs": [
        {
          "output_type": "stream",
          "name": "stdout",
          "text": [
            "Mounted at /content/drive\n"
          ]
        }
      ],
      "source": [
        "from google.colab import drive\n",
        "drive.mount('/content/drive')"
      ]
    },
    {
      "cell_type": "code",
      "execution_count": 6,
      "metadata": {
        "id": "RD3BsHTg9m6g"
      },
      "outputs": [],
      "source": [
        "#The data consists of a large parallel corpus of Hindi and English sentences.\n",
        "df=pd.read_csv(\"/content/drive/MyDrive/HinEng/hindi_english_parallel.csv.zip\")"
      ]
    },
    {
      "cell_type": "markdown",
      "metadata": {
        "id": "R2jOIXOqos6f"
      },
      "source": []
    },
    {
      "cell_type": "markdown",
      "metadata": {
        "id": "H6fy4tMdFUr2"
      },
      "source": [
        "Clean the sentences by removing special characters."
      ]
    },
    {
      "cell_type": "code",
      "execution_count": 7,
      "metadata": {
        "id": "lMsdAu39D78i"
      },
      "outputs": [],
      "source": [
        "# Lowercase, trim, and remove non-letter characters\n",
        "def unicodeToAscii(s):\n",
        "    \"\"\"Converts a Unicode string to ASCII by removing accents.\"\"\"\n",
        "    return ''.join(c for c in unicodedata.normalize('NFD', s) if unicodedata.category(c) != 'Mn')\n",
        "\n",
        "def normalizeString_for_eng(s):\n",
        "    \"\"\"Normalizes an English string for processing.\"\"\"\n",
        "    s = str(s)\n",
        "    s = unicodeToAscii(s.lower().strip())\n",
        "    s = re.sub(r\"([.!?])\", r\" \\1\", s)\n",
        "    s = re.sub(r\"[^a-zA-Z0-9!?]+\", r\" \", s)\n",
        "    return s.strip()\n",
        "\n",
        "def normalizeString_for_hin(s):\n",
        "    \"\"\"Normalizes a Hindi string for processing.\"\"\"\n",
        "    s = str(s)\n",
        "    hindi_chars = \"\\u0900-\\u097F\\u0980-\\u09FF a-zA-Z0-9!? |\"\n",
        "    s = re.sub(r\"[^\" + hindi_chars + \"]\", r\" \", s)\n",
        "    return s.strip()\n",
        "list_of_pairs = []\n",
        "for index, row in df.iterrows():\n",
        "    english_sentence =   normalizeString_for_eng(row[\"english\"])\n",
        "    hindi_sentence =  normalizeString_for_hin(row[\"hindi\"])\n",
        "    if len( english_sentence.split(' ')) < MAX_LENGTH and len(hindi_sentence.split(' '))< MAX_LENGTH:\n",
        "      sentence_pair = [hindi_sentence, english_sentence]\n",
        "      list_of_pairs.append(sentence_pair)"
      ]
    },
    {
      "cell_type": "markdown",
      "metadata": {
        "id": "AilaYE_6GveC"
      },
      "source": [
        "Split the  cleaned dataset into training, validation, and test sets"
      ]
    },
    {
      "cell_type": "code",
      "execution_count": 8,
      "metadata": {
        "id": "xWCqvTB7FvJn"
      },
      "outputs": [],
      "source": [
        "train_set, df_temp = train_test_split(list_of_pairs, test_size=0.2, random_state=42)\n",
        "val_set, test_set = train_test_split(df_temp, test_size=0.2, random_state=42)"
      ]
    },
    {
      "cell_type": "markdown",
      "metadata": {
        "id": "VRVjdadoIU1d"
      },
      "source": [
        "Preparing data by building vocabularies and creating index-to-word and word-to-index mappings for each language."
      ]
    },
    {
      "cell_type": "code",
      "execution_count": 9,
      "metadata": {
        "id": "f9aroI3eG57t"
      },
      "outputs": [],
      "source": [
        "sos = 0  # Start-of-sentence token\n",
        "eos= 1  # End-of-sentence token\n",
        "\n",
        "class Tokenizer:\n",
        "    def __init__(self, Language_name):#language_name (str): The name of the language.\n",
        "\n",
        "\n",
        "        self.Language_name = Language_name\n",
        "        self.Word_To_Index = {}  # Dictionary to map words to indices\n",
        "        self.Index_To_Word = {}  # Dictionary to map indices to words\n",
        "        self.Vocab_Len = 2  # Initial vocabulary size (including SOS and EOS tokens)\n",
        "        self.Index_To_Word = {0: \"sos\", 1: \"eos\"}\n",
        "    def build_vocabulary(self, Text):\n",
        "        \"\"\"\n",
        "        Builds the vocabulary for the tokenizer based on the given text.\n",
        "\n",
        "        Args:\n",
        "            text (str): The text to build the vocabulary from.\n",
        "        \"\"\"\n",
        "        for word in Text.split(\" \"):\n",
        "            if word not in self.Word_To_Index:\n",
        "                self.Word_To_Index[word] = self.Vocab_Len\n",
        "                self.Index_To_Word[self.Vocab_Len] = word\n",
        "                self.Vocab_Len += 1"
      ]
    },
    {
      "cell_type": "code",
      "execution_count": 10,
      "metadata": {
        "id": "IyxVaVD2XVBX"
      },
      "outputs": [],
      "source": [
        "def prepareData(lang1, lang2):\n",
        "    \"\"\"\n",
        "     Args:\n",
        "        lang1 (str): The name of the source language.(hindi).\n",
        "        lang2 (str): The name of the target language.(english).\n",
        "    Returns:\n",
        "        input_lang (Tokenizer): Tokenizer instance for the source language.\n",
        "        output_lang (Tokenizer): Tokenizer instance for the target language.\n",
        "        pairs (list): List of parallel sentence pairs.\n",
        "    \"\"\"\n",
        "    pairs = list_of_pairs\n",
        "    input_lang = Tokenizer(lang1)\n",
        "    output_lang = Tokenizer(lang2)\n",
        "    for pair in pairs:\n",
        "        input_lang.build_vocabulary(pair[0])\n",
        "        output_lang.build_vocabulary(pair[1])\n",
        "    return input_lang, output_lang, pairs"
      ]
    },
    {
      "cell_type": "code",
      "execution_count": 11,
      "metadata": {
        "id": "3H29WAkagQKM"
      },
      "outputs": [],
      "source": [
        "def indexesFromSentence(Tokenizer, Text):#Converts a sentence into a list of indices  .\n",
        "    return [Tokenizer.Word_To_Index[word] for word in Text.split(\" \")]\n",
        "\n",
        "def tensorFromSentence(Tokenizer, Text):#Converts a sentence into a PyTorch tensor of indices.\n",
        "    indexes = indexesFromSentence(Tokenizer, Text)\n",
        "    indexes.append(eos)  # Append end-of-sentence token\n",
        "    return torch.tensor(indexes, dtype=torch.long, device=device).view(1, -1)\n",
        "\n",
        "def tensorsFromPair(lang1, lang2, pair):#Converts a pair of sentences into input and target tensors.\n",
        "    input_tensor = tensorFromSentence(lang1, pair[0])\n",
        "    target_tensor = tensorFromSentence(lang2, pair[1])\n",
        "    return input_tensor, target_tensor"
      ]
    },
    {
      "cell_type": "code",
      "execution_count": 12,
      "metadata": {
        "colab": {
          "base_uri": "https://localhost:8080/"
        },
        "id": "ynAt-RoUVG7i",
        "outputId": "6172c316-9e04-4a0f-b51e-f48e72e6fd46"
      },
      "outputs": [
        {
          "output_type": "stream",
          "name": "stdout",
          "text": [
            "[3243, 4402, 751, 22, 67, 648]\n",
            "[14, 4333]\n"
          ]
        }
      ],
      "source": [
        "inp_instance,out_instance,pairs=prepareData('hin', 'eng')\n",
        "print(indexesFromSentence(out_instance,\"hi then yes and 0 \"))\n",
        "\n",
        "print(indexesFromSentence(inp_instance,\"के 13\"))"
      ]
    },
    {
      "cell_type": "markdown",
      "metadata": {
        "id": "Chs1ALN7KKBW"
      },
      "source": [
        "# **The Seq2Seq Model**\n",
        "***Model*** ***Overview***:\n",
        "\n",
        "*The* *model* *is* *a* *sequenec*-*to*-*sequence* *architecture* *comprising*:\n",
        "\n",
        "**1**.   **Bidirectional** **RNN** **Encoder**:\n",
        "\n",
        "\n",
        "\n",
        "Encodes input sequences into context vectors by processing in both forward and backward directions.                                                                                                                                                     \n",
        "                                                                      \n",
        "                                                                       \n",
        "                                                                        \n",
        "                                                                         \n",
        "                                                                          \n",
        "                                                                           \n",
        "**2**.   **Luong** **Attention** (Dot-Product):     \n",
        "\n",
        "\n",
        "\n",
        "Computes alignment scores and context vectors using a dot-product attention mechanism to improve focus on relevant parts of the input sequence.                                                                      \n",
        "\n",
        "\n",
        "**3**.   **RNN** **Decoder**:\n",
        "\n",
        "Generates output sequences using the context vectors provided by the attention mechanism, predicting the next token based on the current hidden state and context.\n"
      ]
    },
    {
      "cell_type": "markdown",
      "metadata": {
        "id": "75B2wcc5urKv"
      },
      "source": [
        "BIDIRECTIONAL RNN ENCODER:"
      ]
    },
    {
      "cell_type": "markdown",
      "metadata": {
        "id": "vmx0gNrdPcCP"
      },
      "source": [
        "![Capture.PNG](data:image/png;base64,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)"
      ]
    },
    {
      "cell_type": "code",
      "execution_count": 13,
      "metadata": {
        "id": "2anvLP2JOM5q"
      },
      "outputs": [],
      "source": [
        "class Encoder(nn.Module):\n",
        "    def __init__(self, Input_size, Hidden_size, p=0.1):#input_size: The size of the  vocabulary of input language.\n",
        "        super(Encoder, self).__init__()\n",
        "        self.Hidden_size = Hidden_size\n",
        "        self.embedding = nn.Embedding(Input_size, Hidden_size) # Embedding layer to convert token indices into dense vectors of size Hidden_size\n",
        "        self.rnn = nn.RNN(Hidden_size, Hidden_size // 2, batch_first=True, bidirectional=True)# Hidden_size//2 is used for the RNN hidden size because it is split between forward and backward\n",
        "        self.dropout = nn.Dropout(p)\n",
        "\n",
        "    def forward(self, Input):\n",
        "      Input = Input.int()\n",
        "      emb = self.dropout(self.embedding(Input))\n",
        "      output, (hidden_forward, hidden_backward) = self.rnn(emb)\n",
        "      hidden = torch.cat((hidden_forward, hidden_backward), dim=1).unsqueeze(0)\n",
        "      return output, hidden"
      ]
    },
    {
      "cell_type": "markdown",
      "metadata": {
        "id": "qGJofNflpgZj"
      },
      "source": [
        "Luong Attention in a Decoder RNN:\n",
        "\n",
        "1. Luong Attention: Requires the current decoder state to apply attention weights effectively.\n",
        "\n",
        "2. Hidden State Calculation: The decoder’s hidden state is computed using the RNN.\n",
        "\n",
        "3. Token Generation: In a decoder RNN with masked tokens, each time step generates the current token based on the output and hidden state from the previous time step.\n",
        "\n",
        "4. Attention Application: Luong attention then uses the current decoder hidden state to compute attention weights and refine the generation of the current token.\n",
        "\n",
        " ![q.PNG](data:image/png;base64,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)\n",
        "\n",
        "\n",
        "\n",
        "\n"
      ]
    },
    {
      "cell_type": "code",
      "execution_count": 14,
      "metadata": {
        "id": "sspnbFvCi7U9"
      },
      "outputs": [],
      "source": [
        "class LuongAttention(nn.Module):\n",
        "    def __init__(self, Hidden_size):\n",
        "        super(LuongAttention, self).__init__()\n",
        "        self.va = nn.Linear(Hidden_size, Hidden_size)\n",
        "\n",
        "    def forward(self, query, keys):\n",
        "       # Calculate attention scores using dot product\n",
        "        scores = torch.bmm(self.va(query), keys.transpose(1, 2)).squeeze(1)\n",
        "        weights = F.softmax(scores, dim=-1)\n",
        "        context = torch.bmm(weights.unsqueeze(1), keys)\n",
        "\n",
        "        return context\n",
        "class AttnDecoder(nn.Module):\n",
        "    def __init__(self ,Output_size,Hidden_size,dropout_p=0.1):#output_size  : The size of the vocabulary of target language.\n",
        "        super(AttnDecoder,self).__init__()\n",
        "        self.embedding = nn.Embedding(Output_size, Hidden_size)\n",
        "        self.attention = LuongAttention(Hidden_size)# Reuse existing LuongAttention class\n",
        "        self.rnn = nn.RNN(Hidden_size, Hidden_size , batch_first=True)\n",
        "        self.out = nn.Linear(Hidden_size*2, Output_size)\n",
        "        self.dropout = nn.Dropout(dropout_p)\n",
        "\n",
        "\n",
        "    def forward(self, encoder_hidden ,encoder_output ):\n",
        "        batch_size = encoder_hidden.size(1) # Get batch size from encoder hidden state\n",
        "        decoder_input = torch.zeros(batch_size, 1, dtype=torch.long, device=encoder_hidden.device)\n",
        "        decoder_hidden = encoder_hidden\n",
        "        querrys = []# List to store decoder hidden states for attention calculation\n",
        "\n",
        "         # Loop through maximum sequence length for decoding\n",
        "        for i in range(MAX_LENGTH):\n",
        "\n",
        "          # Step 1: Apply embedding, RNN, and store hidden state for attention\n",
        "            decoder_output, decoder_hidden = self.forward_step1(decoder_input, decoder_hidden)\n",
        "            permuted_hidden=decoder_hidden.permute(1,0,2)\n",
        "            querrys.append(permuted_hidden)\n",
        "            decoder_input = decoder_output.argmax(dim=-1)\n",
        "        querrys = torch.cat(querrys, dim=1)\n",
        "        decoder_outputs=[]# List to store decoder outputs\n",
        "\n",
        "        for i in range(MAX_LENGTH):\n",
        "            curr_decode_state=querrys[:,i] # Get current decoder hidden state\n",
        "            decoder_output=self.forward_step2(curr_decode_state ,encoder_output)\n",
        "            decoder_outputs.append(decoder_output)\n",
        "\n",
        "\n",
        "        decoder_outputs = torch.cat(decoder_outputs, dim=1)\n",
        "        decoder_outputs= F.log_softmax(decoder_outputs, dim=-1)\n",
        "\n",
        "\n",
        "        return decoder_outputs\n",
        "\n",
        "    def forward_step1(self, input, hidden):#input  : The decoder input , hidden  : The decoder hidden stat .\n",
        "        embedded = self.dropout(self.embedding(input))\n",
        "        output, hidden = self.rnn(embedded, hidden)\n",
        "\n",
        "        return output, hidden\n",
        "    def forward_step2(self, query,key):# apply attention\n",
        "        query=query.unsqueeze(1)\n",
        "        context  = self.attention(query, key)\n",
        "        output= torch.cat((query, context), dim=2)\n",
        "        output = self.out(output)\n",
        "\n",
        "        return output\n"
      ]
    },
    {
      "cell_type": "markdown",
      "metadata": {
        "id": "740Cg9Vshx0I"
      },
      "source": [
        "# **Training the model:**\n"
      ]
    },
    {
      "cell_type": "markdown",
      "metadata": {
        "id": "marh4_TV0BU7"
      },
      "source": [
        "Prepare and Return DataLoader for Training\n"
      ]
    },
    {
      "cell_type": "code",
      "execution_count": 15,
      "metadata": {
        "id": "WSXdHP6ZU8zr"
      },
      "outputs": [],
      "source": [
        "def get_dataloader(batch_size):\n",
        "    input_lang, output_lang, pairs = prepareData('hin', 'eng')\n",
        "    n = len(pairs)  # Total number of sentence pairs\n",
        "\n",
        "    # Initialize numpy arrays to store input and target IDs\n",
        "    input_ids = np.zeros((n, MAX_LENGTH), dtype=np.int32)\n",
        "    target_ids = np.zeros((n, MAX_LENGTH), dtype=np.int32)\n",
        "\n",
        "    # Convert sentences to indices and pad them to MAX_LENGTH\n",
        "    for idx, (inp, tgt) in enumerate(train_set):\n",
        "        inp_ids = indexesFromSentence(input_lang, inp)\n",
        "        tgt_ids = indexesFromSentence(output_lang, tgt)\n",
        "\n",
        "        # Append end-of-sequence token\n",
        "        inp_ids.append(eos)\n",
        "        tgt_ids.append(eos)\n",
        "        input_ids[idx, :len(inp_ids)] = inp_ids\n",
        "        target_ids[idx, :len(tgt_ids)] = tgt_ids\n",
        "\n",
        "    # Create TensorDataset from the input and target IDs\n",
        "    train_data = TensorDataset(torch.LongTensor(input_ids).to(device), torch.LongTensor(target_ids).to(device))\n",
        "\n",
        "    # Create a RandomSampler for the training data\n",
        "    train_sampler = RandomSampler(train_data)\n",
        "\n",
        "    # Create a DataLoader with the specified batch size\n",
        "    train_dataloader = DataLoader(train_data, sampler=train_sampler, batch_size=batch_size)\n",
        "\n",
        "    return input_lang, output_lang, train_dataloader"
      ]
    },
    {
      "cell_type": "markdown",
      "metadata": {
        "id": "iPpPhBohz9pI"
      },
      "source": [
        "Sequence-to-Sequence Model Training with Epoch-wise Loss Tracking and Visualization:"
      ]
    },
    {
      "cell_type": "code",
      "execution_count": 16,
      "metadata": {
        "id": "K5crSjkIVHci"
      },
      "outputs": [],
      "source": [
        "def asMinutes(s):\n",
        "    m = math.floor(s / 60)\n",
        "    s -= m * 60\n",
        "    return '%dm %ds' % (m, s)\n",
        "\n",
        "def timeSince(since, percent):\n",
        "    now = time.time()\n",
        "    s = now - since\n",
        "    es = s / percent\n",
        "    rs = es - s\n",
        "    return '%s (- %s)' % (asMinutes(s), asMinutes(rs))\n",
        "\n",
        "def train_epoch(dataloader, encoder, decoder, encoder_optimizer, decoder_optimizer, criterion):\n",
        "    total_loss = 0\n",
        "    for data in dataloader:\n",
        "        input_tensor, target_tensor = data\n",
        "        encoder_optimizer.zero_grad()\n",
        "        decoder_optimizer.zero_grad()\n",
        "\n",
        "        encoder_outputs, encoder_hidden = encoder(input_tensor)\n",
        "        decoder_outputs = decoder(encoder_hidden, encoder_outputs)\n",
        "\n",
        "        loss = criterion(\n",
        "            decoder_outputs.view(-1, decoder_outputs.size(-1)),\n",
        "            target_tensor.view(-1)\n",
        "        )\n",
        "        loss.backward()\n",
        "        encoder_optimizer.step()\n",
        "        decoder_optimizer.step()\n",
        "        total_loss += loss.item()\n",
        "    return total_loss / len(dataloader)\n",
        "\n",
        "def train(train_dataloader, encoder, decoder, n_epochs, learning_rate=0.01, print_every=100, plot_every=100):\n",
        "    start = time.time()\n",
        "    plot_losses = []\n",
        "    print_loss_total = 0  # Reset every print_every\n",
        "    plot_loss_total = 0\n",
        "    encoder_optimizer = optim.Adam(encoder.parameters(), lr=learning_rate)\n",
        "    decoder_optimizer = optim.Adam(decoder.parameters(), lr=learning_rate)\n",
        "    criterion = nn.NLLLoss()\n",
        "\n",
        "    for epoch in range(1, n_epochs + 1):\n",
        "        loss = train_epoch(train_dataloader, encoder, decoder, encoder_optimizer, decoder_optimizer, criterion)\n",
        "        print_loss_total += loss\n",
        "        plot_loss_total += loss\n",
        "\n",
        "        if epoch % print_every == 0:\n",
        "            print_loss_avg = print_loss_total / print_every\n",
        "            print_loss_total = 0\n",
        "            print('%s (%d %d%%) %.4f' % (timeSince(start, epoch / n_epochs),\n",
        "                                          epoch, epoch / n_epochs * 100, print_loss_avg))\n",
        "\n",
        "        if epoch % plot_every == 0:\n",
        "            plot_loss_avg = plot_loss_total / plot_every\n",
        "            plot_losses.append(plot_loss_avg)\n",
        "            plot_loss_total = 0\n",
        "\n",
        "    # Plot the training loss at the end of training\n",
        "    plt.figure(figsize=(10, 5))\n",
        "    plt.plot(range(1, len(plot_losses) + 1), plot_losses, marker='o')\n",
        "    plt.xlabel('Epoch')\n",
        "    plt.ylabel('Loss')\n",
        "    plt.title('Training Loss Over Epochs')\n",
        "    plt.grid(True)\n",
        "    plt.show()\n"
      ]
    },
    {
      "cell_type": "markdown",
      "metadata": {
        "id": "RrP4mW6FdA19"
      },
      "source": [
        "the model is trained for 20 epochs"
      ]
    },
    {
      "cell_type": "code",
      "execution_count": 17,
      "metadata": {
        "id": "nDwKcD_8YOmO"
      },
      "outputs": [],
      "source": [
        "input_lang, output_lang, train_dataloader = get_dataloader(batch_size)\n",
        "\n",
        "encoder = Encoder(input_lang.Vocab_Len, hidden_size).to(device)\n",
        "decoder = AttnDecoder(output_lang.Vocab_Len,hidden_size).to(device)\n",
        ""
      ]
    },
    {
      "cell_type": "code",
      "execution_count": 61,
      "metadata": {
        "colab": {
          "base_uri": "https://localhost:8080/"
        },
        "id": "8AN34sapyQN4",
        "outputId": "07080a9c-b075-4c74-f6d8-a7679feeb535"
      },
      "outputs": [
        {
          "output_type": "execute_result",
          "data": {
            "text/plain": [
              "<All keys matched successfully>"
            ]
          },
          "metadata": {},
          "execution_count": 61
        }
      ],
      "source": [
        "input_lang, output_lang, train_dataloader = get_dataloader(batch_size)\n",
        "encoder.load_state_dict(torch.load(\"/content/drive/MyDrive/encoder_path8\"))\n",
        "decoder.load_state_dict(torch.load(\"/content/drive/MyDrive/decoder_path8 (1)\"))\n",
        "#train(train_dataloader, encoder, decoder, 5, print_every=1, plot_every=1)"
      ]
    },
    {
      "cell_type": "markdown",
      "metadata": {
        "id": "3zAcg0-szwe7"
      },
      "source": [
        "# **Model Evaluation and Metrics:**"
      ]
    },
    {
      "cell_type": "markdown",
      "metadata": {
        "id": "TcS2xW8UsKbI"
      },
      "source": [
        "Function to Evaluate and Decode Text Using a Trained Encoder-Decoder Model"
      ]
    },
    {
      "cell_type": "code",
      "execution_count": 20,
      "metadata": {
        "id": "MpI9AkOeZELp"
      },
      "outputs": [],
      "source": [
        "def evaluate(encoder, decoder, Text, input_lang, output_lang):\n",
        "    # Disable gradient calculation for evaluation mode\n",
        "    with torch.no_grad():\n",
        "        # Convert the input sentence into a tensor of indices\n",
        "        input_tensor = tensorFromSentence(input_lang, Text)\n",
        "\n",
        "        encoder_outputs, encoder_hidden = encoder(input_tensor)\n",
        "        decoder_outputs = decoder(encoder_hidden, encoder_outputs)\n",
        "\n",
        "        # Get the top predicted word index for each step from the decoder output\n",
        "        _, topi = decoder_outputs.topk(1)\n",
        "        decoded_ids = topi.squeeze()\n",
        "        decoded_words = []\n",
        "\n",
        "        for idx in decoded_ids:\n",
        "            if idx.item() == eos:  # If the end-of-sequence token is encountered, stop decoding\n",
        "                decoded_words.append('<eos>')\n",
        "                break\n",
        "            decoded_words.append(output_lang.Index_To_Word[idx.item()])\n",
        "\n",
        "    return decoded_words"
      ]
    },
    {
      "cell_type": "markdown",
      "metadata": {
        "id": "mJtGgF527b_W"
      },
      "source": [
        "Calculate BLEU and METEOR Scores for Model Output"
      ]
    },
    {
      "cell_type": "code",
      "source": [
        "import sacrebleu\n",
        "\n",
        "def BLUE_SCORE(encoder, decoder, data):\n",
        "    references = []\n",
        "    hypotheses = []\n",
        "\n",
        "\n",
        "    for input_sentence, target_sentence in data:\n",
        "\n",
        "        output_words = evaluate(encoder, decoder, input_sentence, input_lang, output_lang)\n",
        "        output_sentence = ' '.join(output_words)\n",
        "\n",
        "        # Collect the target and output sentences\n",
        "        references.append([target_sentence])  # SacreBLEU expects a list of lists for references\n",
        "        hypotheses.append(output_sentence)    # A list of hypothesis sentences\n",
        "\n",
        "    # Calculate BLEU score for all sentences using SacreBLEU\n",
        "    bleu_score = sacrebleu.corpus_bleu(hypotheses, references).score\n",
        "\n",
        "    return bleu_score"
      ],
      "metadata": {
        "id": "yeoT50U24EWV"
      },
      "execution_count": 73,
      "outputs": []
    },
    {
      "cell_type": "code",
      "execution_count": 24,
      "metadata": {
        "colab": {
          "base_uri": "https://localhost:8080/"
        },
        "id": "Z5kkF0IZ723e",
        "outputId": "0c6c8cca-ed5c-4a6a-8a2d-c67f21805027"
      },
      "outputs": [
        {
          "output_type": "stream",
          "name": "stderr",
          "text": [
            "[nltk_data] Downloading package wordnet to /root/nltk_data...\n"
          ]
        }
      ],
      "source": [
        "nltk.download('wordnet')\n",
        "def METEOR_SCORE(encoder, decoder, data ):\n",
        "    meteor_scores = []\n",
        "    for input_sentence, target_sentence in data:\n",
        "\n",
        "        output_words = evaluate(encoder, decoder, input_sentence, input_lang, output_lang)\n",
        "        output_sentence = ' '.join(output_words)\n",
        "\n",
        "        target_tokens = target_sentence.split()\n",
        "        output_tokens = output_sentence.split()\n",
        "\n",
        "        score = meteor_score([target_tokens], output_tokens)\n",
        "        meteor_scores.append(score)\n",
        "    average_meteor_score = sum(meteor_scores) / len(meteor_scores)\n",
        "\n",
        "    return average_meteor_score\n",
        "\n"
      ]
    },
    {
      "cell_type": "code",
      "execution_count": 77,
      "metadata": {
        "colab": {
          "base_uri": "https://localhost:8080/"
        },
        "id": "4LLjZJIw_E0H",
        "outputId": "1d6e629d-2868-4c7f-c684-1f9041c79a14"
      },
      "outputs": [
        {
          "output_type": "stream",
          "name": "stdout",
          "text": [
            "blue score for validation set: 10.682175159905853\n",
            "METEOR Score for validation set: 0.2217\n"
          ]
        }
      ],
      "source": [
        "# Calculate BLEU and METEOR scores for sample datasets\n",
        "calculated_bleu_score = BLUE_SCORE(encoder, decoder, val_set  )\n",
        "calculated_meteor_score = METEOR_SCORE(encoder, decoder, val_set  )\n",
        "\n",
        "print(\"blue score for validation set:\" , calculated_bleu_score )\n",
        "print(f\"METEOR Score for validation set: {calculated_meteor_score:.4f}\")"
      ]
    },
    {
      "cell_type": "markdown",
      "metadata": {
        "id": "2OUxJdRvBKmK"
      },
      "source": [
        "\n",
        "Evaluate Model Predictions on Validation Set"
      ]
    },
    {
      "cell_type": "code",
      "execution_count": 78,
      "metadata": {
        "id": "_lQDU7vJi0qp"
      },
      "outputs": [],
      "source": [
        "def evaluate_Val(encoder, decoder, n=5):\n",
        "    for i in range(n):\n",
        "\n",
        "        pair = random.choice(val_set[:100])\n",
        "        print('>', pair[0])\n",
        "        print('=', pair[1])\n",
        "        output_words= evaluate(encoder, decoder, pair[0], input_lang, output_lang)\n",
        "\n",
        "        output_sentence = ' '.join(output_words)\n",
        "        print('<', output_sentence)\n",
        "        print('')"
      ]
    },
    {
      "cell_type": "code",
      "execution_count": 96,
      "metadata": {
        "colab": {
          "base_uri": "https://localhost:8080/"
        },
        "id": "DxYRvx2w1OXM",
        "outputId": "f98ca863-8f92-4c9e-c3eb-5afa37abe3fe"
      },
      "outputs": [
        {
          "output_type": "stream",
          "name": "stdout",
          "text": [
            "> नोकझोक\n",
            "= irony\n",
            "< satire <eos>\n",
            "\n",
            "> इबेरिया प्रायद्वीप\n",
            "= iberian peninsula\n",
            "< iberian peninsula peninsula peninsula <eos>\n",
            "\n",
            "> हां  स्थानीय लोग न तो भावुक होते हैं\n",
            "= well indigenous people are neither sentimental\n",
            "< you s you are <eos>\n",
            "\n",
            "> अंतर्मुखता\n",
            "= introversion\n",
            "< interiorly <eos>\n",
            "\n",
            "> अग्नि पंचम\n",
            "= agni v\n",
            "< agni v a to <eos>\n",
            "\n"
          ]
        }
      ],
      "source": [
        "encoder.eval()\n",
        "decoder.eval()\n",
        "evaluate_Val(encoder, decoder)"
      ]
    }
  ],
  "metadata": {
    "colab": {
      "provenance": [],
      "gpuType": "T4",
      "include_colab_link": true
    },
    "kernelspec": {
      "display_name": "Python 3",
      "name": "python3"
    },
    "language_info": {
      "name": "python"
    },
    "accelerator": "GPU"
  },
  "nbformat": 4,
  "nbformat_minor": 0
}